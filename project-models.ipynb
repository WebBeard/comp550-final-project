{
 "cells": [
  {
   "cell_type": "code",
   "execution_count": 1,
   "id": "43133b59-f8d1-4206-b628-92b43eb52634",
   "metadata": {
    "execution": {
     "iopub.execute_input": "2023-12-18T18:07:10.330826Z",
     "iopub.status.busy": "2023-12-18T18:07:10.330072Z",
     "iopub.status.idle": "2023-12-18T18:07:12.561652Z",
     "shell.execute_reply": "2023-12-18T18:07:12.560447Z",
     "shell.execute_reply.started": "2023-12-18T18:07:10.330792Z"
    }
   },
   "outputs": [],
   "source": [
    "from transformers import GPT2LMHeadModel, GPT2Tokenizer\n",
    "import pandas as pd\n",
    "import torch\n",
    "import numpy as np\n",
    "import matplotlib.pyplot as plt"
   ]
  },
  {
   "cell_type": "markdown",
   "id": "a4498d51-0903-4285-8d2d-2615e9897c11",
   "metadata": {},
   "source": [
    "## Load data and perform analysis"
   ]
  },
  {
   "cell_type": "code",
   "execution_count": 2,
   "id": "8e5b8359-40f4-46b2-8a23-906120dc22e3",
   "metadata": {
    "execution": {
     "iopub.execute_input": "2023-12-18T18:07:12.564882Z",
     "iopub.status.busy": "2023-12-18T18:07:12.564194Z",
     "iopub.status.idle": "2023-12-18T18:07:12.874797Z",
     "shell.execute_reply": "2023-12-18T18:07:12.873264Z",
     "shell.execute_reply.started": "2023-12-18T18:07:12.564838Z"
    }
   },
   "outputs": [
    {
     "name": "stdout",
     "output_type": "stream",
     "text": [
      "Non-offensive jokes:\n",
      "Entropy mean:  -0.12610172907291667\n",
      "Surprisal mean:  0.10827168417134986\n",
      "\n",
      "\n",
      "Offensive jokes:\n",
      "Entropy mean:  0.12610101308672178\n",
      "Surprisal mean:  -0.10827103271019284\n"
     ]
    },
    {
     "data": {
      "image/png": "[encoded data removed]",
      "text/plain": [
       "<Figure size 640x480 with 1 Axes>"
      ]
     },
     "metadata": {},
     "output_type": "display_data"
    },
    {
     "data": {
      "image/png": "[encoded data removed]",
      "text/plain": [
       "<Figure size 640x480 with 1 Axes>"
      ]
     },
     "metadata": {},
     "output_type": "display_data"
    },
    {
     "name": "stdout",
     "output_type": "stream",
     "text": [
      "Minimum entity-sentiment score under 17.56198347107438\n",
      "22.65840220385675\n"
     ]
    },
    {
     "name": "stderr",
     "output_type": "stream",
     "text": [
      "/tmp/ipykernel_33/682535898.py:23: UserWarning: Boolean Series key will be reindexed to match DataFrame index.\n",
      "  print(\"Minimum entity-sentiment score under\", len(df_non_offensive.dropna()[df_non_offensive[\"minimum_sentiment_score\"] < 0]) / len(df_non_offensive) * 100)\n",
      "/tmp/ipykernel_33/682535898.py:24: UserWarning: Boolean Series key will be reindexed to match DataFrame index.\n",
      "  print(len(df_offensive.dropna()[df_offensive[\"minimum_sentiment_score\"] < 0]) / len(df_offensive) * 100)\n"
     ]
    }
   ],
   "source": [
    "df = pd.read_csv(\"cleaned_data_entropy_surprisal_sentiment.csv\")\n",
    "\n",
    "df_non_offensive = df[df[\"joke_type\"] == 0]\n",
    "df_offensive = df[df[\"joke_type\"] == 1]\n",
    "\n",
    "# Compute average difference for offensive and non-offensive jokes\n",
    "print(\"Non-offensive jokes:\")\n",
    "print(\"Entropy mean: \", df_non_offensive[\"entropy\"].mean())\n",
    "print(\"Surprisal mean: \", df_non_offensive[\"surprisal\"].mean())\n",
    "print(\"\\n\")\n",
    "print(\"Offensive jokes:\")\n",
    "print(\"Entropy mean: \", df_offensive[\"entropy\"].mean())\n",
    "print(\"Surprisal mean: \", df_offensive[\"surprisal\"].mean())\n",
    "\n",
    "fig, ax = plt.subplots()\n",
    "ax.boxplot([df_non_offensive[\"surprisal\"], df_offensive[\"surprisal\"]], labels=[\"Non Offensive\", \"Offensive\"])\n",
    "plt.show()\n",
    "\n",
    "fig, ax = plt.subplots()\n",
    "ax.boxplot([df_non_offensive[\"entropy\"], df_offensive[\"entropy\"]], labels=[\"Non Offensive\", \"Offensive\"])\n",
    "plt.show()\n",
    "\n",
    "print(\"Minimum entity-sentiment score under\", len(df_non_offensive.dropna()[df_non_offensive[\"minimum_sentiment_score\"] < 0]) / len(df_non_offensive) * 100)\n",
    "print(len(df_offensive.dropna()[df_offensive[\"minimum_sentiment_score\"] < 0]) / len(df_offensive) * 100)\n"
   ]
  },
  {
   "cell_type": "markdown",
   "id": "6e23f52e-b3f9-4523-ae4e-8b231178331c",
   "metadata": {},
   "source": [
    "## Create model"
   ]
  },
  {
   "cell_type": "code",
   "execution_count": 3,
   "id": "138119ba-3454-4425-a4fe-c42e4722b548",
   "metadata": {
    "execution": {
     "iopub.execute_input": "2023-12-09T22:38:27.782102Z",
     "iopub.status.busy": "2023-12-09T22:38:27.781697Z",
     "iopub.status.idle": "2023-12-09T22:38:31.891457Z",
     "shell.execute_reply": "2023-12-09T22:38:31.890538Z",
     "shell.execute_reply.started": "2023-12-09T22:38:27.782077Z"
    }
   },
   "outputs": [
    {
     "name": "stdout",
     "output_type": "stream",
     "text": [
      "Requirement already satisfied: protobuf==3.20.* in /usr/local/lib/python3.9/dist-packages (3.20.3)\n",
      "\u001b[33mWARNING: Running pip as the 'root' user can result in broken permissions and conflicting behaviour with the system package manager. It is recommended to use a virtual environment instead: https://pip.pypa.io/warnings/venv\u001b[0m\u001b[33m\n",
      "\u001b[0m"
     ]
    }
   ],
   "source": [
    "!pip install protobuf==3.20.*"
   ]
  },
  {
   "cell_type": "code",
   "execution_count": 8,
   "id": "e27611a4-82a9-4853-b023-d325c159fb04",
   "metadata": {
    "execution": {
     "iopub.execute_input": "2023-12-09T22:54:41.207960Z",
     "iopub.status.busy": "2023-12-09T22:54:41.207600Z",
     "iopub.status.idle": "2023-12-09T22:54:41.260370Z",
     "shell.execute_reply": "2023-12-09T22:54:41.258902Z",
     "shell.execute_reply.started": "2023-12-09T22:54:41.207929Z"
    }
   },
   "outputs": [],
   "source": [
    "from torch.utils.data import Dataset, DataLoader\n",
    "from transformers import BertTokenizer, BertModel, AdamW\n",
    "import torch.nn as nn\n",
    "import torch.nn.functional as F\n",
    "from sklearn.model_selection import train_test_split\n",
    "\n",
    "class HumorDataset(Dataset):\n",
    "    def __init__(self, texts, features, labels, tokenizer, max_len):\n",
    "        self.texts = texts\n",
    "        self.features = features\n",
    "        self.labels = labels\n",
    "        self.tokenizer = tokenizer\n",
    "        self.max_len = max_len\n",
    "\n",
    "    def __len__(self):\n",
    "        return len(self.texts)\n",
    "\n",
    "    def __getitem__(self, item):\n",
    "        text = str(self.texts[item])\n",
    "        if len(self.features) > 0: features = self.features[item]\n",
    "        label = self.labels[item]\n",
    "\n",
    "        encoding = self.tokenizer.encode_plus(\n",
    "            text,\n",
    "            add_special_tokens=True,\n",
    "            max_length=self.max_len,\n",
    "            return_token_type_ids=False,\n",
    "            padding='max_length',\n",
    "            return_attention_mask=True,\n",
    "            return_tensors='pt',\n",
    "        )\n",
    "\n",
    "        return {\n",
    "            'text': text,\n",
    "            'input_ids': encoding['input_ids'].flatten(),\n",
    "            'attention_mask': encoding['attention_mask'].flatten(),\n",
    "            'features': (torch.tensor(features, dtype=torch.float) if len(self.features) > 0 else torch.tensor([])),\n",
    "            'labels': torch.tensor(int(label), dtype=torch.long)\n",
    "        }\n",
    "\n",
    "class HumorClassifier(nn.Module):\n",
    "    def __init__(self, n_features):\n",
    "        super(HumorClassifier, self).__init__()\n",
    "        self.bert = BertModel.from_pretrained(\"bert-base-uncased\")\n",
    "        self.drop = nn.Dropout(p=0.3)\n",
    "        self.out = nn.Linear(self.bert.config.hidden_size + n_features, 2)\n",
    "        \n",
    "\n",
    "    def forward(self, input_ids, attention_mask, features):\n",
    "        _, pooled_output = self.bert(\n",
    "            input_ids=input_ids,\n",
    "            attention_mask=attention_mask,\n",
    "            return_dict=False\n",
    "        )\n",
    "        output = self.drop(pooled_output)\n",
    "        if len(features) > 0: output = torch.cat((output, features), 1)\n",
    "        return self.out(output)\n",
    "\n",
    "def create_data_loader(df, tokenizer, max_len, batch_size, custom_features):\n",
    "    ds = HumorDataset(\n",
    "        texts=(df[\"title\"] + \"[SEP]\" + df[\"selftext\"]).to_numpy(),\n",
    "        features=df[custom_features].to_numpy(),\n",
    "        labels=df.joke_type.to_numpy(),\n",
    "        tokenizer=tokenizer,\n",
    "        max_len=max_len\n",
    "    )\n",
    "\n",
    "    return DataLoader(ds, batch_size=batch_size, num_workers=4)\n",
    "\n",
    "def train_epoch(model, data_loader, loss_fn, optimizer, device, n_examples):\n",
    "    model = model.train()\n",
    "    losses = []\n",
    "    correct_predictions = 0\n",
    "\n",
    "    for d in data_loader:\n",
    "        input_ids = d[\"input_ids\"].to(device)\n",
    "        attention_mask = d[\"attention_mask\"].to(device)\n",
    "        features = d[\"features\"].to(device)\n",
    "        labels = d[\"labels\"].to(device)\n",
    "\n",
    "        outputs = model(\n",
    "            input_ids=input_ids,\n",
    "            attention_mask=attention_mask,\n",
    "            features=features\n",
    "        )\n",
    "\n",
    "        _, preds = torch.max(outputs, dim=1)\n",
    "        loss = loss_fn(outputs, labels)\n",
    "\n",
    "        correct_predictions += torch.sum(preds == labels)\n",
    "        losses.append(loss.item())\n",
    "\n",
    "        loss.backward()\n",
    "        nn.utils.clip_grad_norm_(model.parameters(), max_norm=1.0)\n",
    "        optimizer.step()\n",
    "        optimizer.zero_grad()\n",
    "\n",
    "    return correct_predictions.double() / n_examples, np.mean(losses)\n",
    "\n",
    "\n",
    "def eval_model(model, data_loader, loss_fn, device, n_examples):\n",
    "    model = model.eval()\n",
    "    losses = []\n",
    "    correct_predictions = 0\n",
    "\n",
    "    with torch.no_grad():\n",
    "        for d in data_loader:\n",
    "            input_ids = d['input_ids'].to(device)\n",
    "            attention_mask = d['attention_mask'].to(device)\n",
    "            features = d['features'].to(device)\n",
    "            labels = d['labels'].to(device)\n",
    "\n",
    "            outputs = model(\n",
    "                input_ids=input_ids,\n",
    "                attention_mask=attention_mask,\n",
    "                features=features\n",
    "            )\n",
    "\n",
    "            _, preds = torch.max(outputs, dim=1)\n",
    "            loss = loss_fn(outputs, labels)\n",
    "\n",
    "            correct_predictions += torch.sum(preds == labels)\n",
    "            losses.append(loss.item())\n",
    "\n",
    "    return correct_predictions.double() / n_examples, np.mean(losses)\n",
    "\n",
    "def create_model(features, n_features, df_train, df_val, df_test):\n",
    "\n",
    "    tokenizer = BertTokenizer.from_pretrained('bert-base-uncased')\n",
    "    model = HumorClassifier(n_features=n_features)\n",
    "\n",
    "    BATCH_SIZE = 16\n",
    "    MAX_LEN = 128\n",
    "\n",
    "    train_data_loader = create_data_loader(df_train, tokenizer, MAX_LEN, BATCH_SIZE, features)\n",
    "    val_data_loader = create_data_loader(df_val, tokenizer, MAX_LEN, BATCH_SIZE, features)\n",
    "\n",
    "    device = torch.device(\"cuda\" if torch.cuda.is_available() else \"cpu\")\n",
    "    model = model.to(device)\n",
    "\n",
    "    optimizer = AdamW(model.parameters(), lr=2e-5, correct_bias=False, no_deprecation_warning=True)\n",
    "    loss_fn = nn.CrossEntropyLoss().to(device)\n",
    "\n",
    "    EPOCHS = 4\n",
    "    for epoch in range(EPOCHS):\n",
    "        print(f'Epoch {epoch + 1}/{EPOCHS}')\n",
    "        print('-' * 10)\n",
    "\n",
    "        train_acc, train_loss = train_epoch(\n",
    "            model,\n",
    "            train_data_loader,\n",
    "            loss_fn,\n",
    "            optimizer,\n",
    "            device,\n",
    "            len(df_train)\n",
    "        )\n",
    "\n",
    "        print(f'Train loss {train_loss} accuracy {train_acc}')\n",
    "\n",
    "        val_acc, val_loss = eval_model(\n",
    "            model,\n",
    "            val_data_loader,\n",
    "            loss_fn,\n",
    "            device,\n",
    "            len(df_val)\n",
    "        )\n",
    "\n",
    "        print(f'Val   loss {val_loss} accuracy {val_acc}')\n",
    "    \n",
    "    return model, val_acc"
   ]
  },
  {
   "cell_type": "code",
   "execution_count": 5,
   "id": "6397ee66-239d-44f9-b2f5-814e249e644e",
   "metadata": {
    "execution": {
     "iopub.execute_input": "2023-12-09T22:40:02.829936Z",
     "iopub.status.busy": "2023-12-09T22:40:02.828840Z",
     "iopub.status.idle": "2023-12-09T22:40:02.865140Z",
     "shell.execute_reply": "2023-12-09T22:40:02.864386Z",
     "shell.execute_reply.started": "2023-12-09T22:40:02.829896Z"
    }
   },
   "outputs": [],
   "source": [
    "df = pd.read_csv(\"cleaned_data_entropy_surprisal_sentiment.csv\")\n",
    "df[\"minimum_sentiment_score\"] = df[\"minimum_sentiment_score\"].fillna(0)\n",
    "df_train, df_test = train_test_split(df, test_size=0.2)\n",
    "df_train, df_val = train_test_split(df_train, test_size=0.1)"
   ]
  },
  {
   "cell_type": "code",
   "execution_count": 9,
   "id": "efa9c80d-d419-4c46-a381-e9a81aa89604",
   "metadata": {
    "execution": {
     "iopub.execute_input": "2023-12-09T22:54:46.431612Z",
     "iopub.status.busy": "2023-12-09T22:54:46.430906Z",
     "iopub.status.idle": "2023-12-09T23:00:22.261467Z",
     "shell.execute_reply": "2023-12-09T23:00:22.258549Z",
     "shell.execute_reply.started": "2023-12-09T22:54:46.431585Z"
    }
   },
   "outputs": [
    {
     "name": "stderr",
     "output_type": "stream",
     "text": [
      "Some weights of the model checkpoint at bert-base-uncased were not used when initializing BertModel: ['cls.predictions.bias', 'cls.predictions.transform.dense.weight', 'cls.seq_relationship.bias', 'cls.predictions.transform.LayerNorm.bias', 'cls.predictions.transform.dense.bias', 'cls.seq_relationship.weight', 'cls.predictions.decoder.weight', 'cls.predictions.transform.LayerNorm.weight']\n",
      "- This IS expected if you are initializing BertModel from the checkpoint of a model trained on another task or with another architecture (e.g. initializing a BertForSequenceClassification model from a BertForPreTraining model).\n",
      "- This IS NOT expected if you are initializing BertModel from the checkpoint of a model that you expect to be exactly identical (initializing a BertForSequenceClassification model from a BertForSequenceClassification model).\n"
     ]
    },
    {
     "name": "stdout",
     "output_type": "stream",
     "text": [
      "Epoch 1/4\n",
      "----------\n",
      "Train loss 0.37555192831818385 accuracy 0.8349677110739058\n",
      "Val   loss 0.21636365670710803 accuracy 0.9204301075268817\n",
      "Epoch 2/4\n",
      "----------\n",
      "Train loss 0.14024646329082094 accuracy 0.9564697440803636\n",
      "Val   loss 0.34658076557097955 accuracy 0.9139784946236559\n",
      "Epoch 3/4\n",
      "----------\n",
      "Train loss 0.05107294292547313 accuracy 0.9878019612532888\n",
      "Val   loss 0.39498435814166444 accuracy 0.9161290322580645\n",
      "Epoch 4/4\n",
      "----------\n",
      "Train loss 0.02765483962350173 accuracy 0.9949772781631189\n",
      "Val   loss 0.43941965619354356 accuracy 0.9161290322580645\n"
     ]
    }
   ],
   "source": [
    "model_1, val_acc_1 = create_model([], 0, df_train, df_val, df_test)"
   ]
  },
  {
   "cell_type": "code",
   "execution_count": 10,
   "id": "e62d8c7b-5c4f-4a48-a503-39e0293a07dd",
   "metadata": {
    "execution": {
     "iopub.execute_input": "2023-12-09T23:00:33.283931Z",
     "iopub.status.busy": "2023-12-09T23:00:33.283585Z",
     "iopub.status.idle": "2023-12-09T23:06:11.953128Z",
     "shell.execute_reply": "2023-12-09T23:06:11.951903Z",
     "shell.execute_reply.started": "2023-12-09T23:00:33.283902Z"
    }
   },
   "outputs": [
    {
     "name": "stderr",
     "output_type": "stream",
     "text": [
      "Some weights of the model checkpoint at bert-base-uncased were not used when initializing BertModel: ['cls.predictions.bias', 'cls.predictions.transform.dense.weight', 'cls.seq_relationship.bias', 'cls.predictions.transform.LayerNorm.bias', 'cls.predictions.transform.dense.bias', 'cls.seq_relationship.weight', 'cls.predictions.decoder.weight', 'cls.predictions.transform.LayerNorm.weight']\n",
      "- This IS expected if you are initializing BertModel from the checkpoint of a model trained on another task or with another architecture (e.g. initializing a BertForSequenceClassification model from a BertForPreTraining model).\n",
      "- This IS NOT expected if you are initializing BertModel from the checkpoint of a model that you expect to be exactly identical (initializing a BertForSequenceClassification model from a BertForSequenceClassification model).\n"
     ]
    },
    {
     "name": "stdout",
     "output_type": "stream",
     "text": [
      "Epoch 1/4\n",
      "----------\n",
      "Train loss 0.3788767353851945 accuracy 0.8433389141353743\n",
      "Val   loss 0.24821302214016516 accuracy 0.896774193548387\n",
      "Epoch 2/4\n",
      "----------\n",
      "Train loss 0.15360645872304388 accuracy 0.9562305668500359\n",
      "Val   loss 0.38751436802558603 accuracy 0.9010752688172043\n",
      "Epoch 3/4\n",
      "----------\n",
      "Train loss 0.051204880580878354 accuracy 0.9880411384836164\n",
      "Val   loss 0.3803339557314757 accuracy 0.9139784946236559\n",
      "Epoch 4/4\n",
      "----------\n",
      "Train loss 0.020219324384696022 accuracy 0.9961731643147573\n",
      "Val   loss 0.46142924038382865 accuracy 0.9247311827956989\n"
     ]
    }
   ],
   "source": [
    "model_2, val_acc_2 = create_model(['surprisal'], 1, df_train, df_val, df_test)"
   ]
  },
  {
   "cell_type": "code",
   "execution_count": 11,
   "id": "2e141b4d-faf2-4d2a-b7ed-f69a019c8185",
   "metadata": {
    "execution": {
     "iopub.execute_input": "2023-12-09T23:06:16.911080Z",
     "iopub.status.busy": "2023-12-09T23:06:16.909646Z",
     "iopub.status.idle": "2023-12-09T23:11:56.082814Z",
     "shell.execute_reply": "2023-12-09T23:11:56.081843Z",
     "shell.execute_reply.started": "2023-12-09T23:06:16.911032Z"
    }
   },
   "outputs": [
    {
     "name": "stderr",
     "output_type": "stream",
     "text": [
      "Some weights of the model checkpoint at bert-base-uncased were not used when initializing BertModel: ['cls.predictions.bias', 'cls.predictions.transform.dense.weight', 'cls.seq_relationship.bias', 'cls.predictions.transform.LayerNorm.bias', 'cls.predictions.transform.dense.bias', 'cls.seq_relationship.weight', 'cls.predictions.decoder.weight', 'cls.predictions.transform.LayerNorm.weight']\n",
      "- This IS expected if you are initializing BertModel from the checkpoint of a model trained on another task or with another architecture (e.g. initializing a BertForSequenceClassification model from a BertForPreTraining model).\n",
      "- This IS NOT expected if you are initializing BertModel from the checkpoint of a model that you expect to be exactly identical (initializing a BertForSequenceClassification model from a BertForSequenceClassification model).\n"
     ]
    },
    {
     "name": "stdout",
     "output_type": "stream",
     "text": [
      "Epoch 1/4\n",
      "----------\n",
      "Train loss 0.38753932442885775 accuracy 0.8342501793829228\n",
      "Val   loss 0.24426733180880547 accuracy 0.896774193548387\n",
      "Epoch 2/4\n",
      "----------\n",
      "Train loss 0.1705334932989448 accuracy 0.9478593637885674\n",
      "Val   loss 0.36681993200521296 accuracy 0.9032258064516129\n",
      "Epoch 3/4\n",
      "----------\n",
      "Train loss 0.06650029509310533 accuracy 0.9830184166467353\n",
      "Val   loss 0.443762677993315 accuracy 0.8989247311827957\n",
      "Epoch 4/4\n",
      "----------\n",
      "Train loss 0.035372368625022174 accuracy 0.9909112652475485\n",
      "Val   loss 0.4872849535565668 accuracy 0.9075268817204301\n"
     ]
    }
   ],
   "source": [
    "model_3, val_acc_3 = create_model(['entropy'], 1, df_train, df_val, df_test)"
   ]
  },
  {
   "cell_type": "code",
   "execution_count": 12,
   "id": "a5f20f61-6441-4670-bc88-919f817c33f8",
   "metadata": {
    "execution": {
     "iopub.execute_input": "2023-12-09T23:12:33.946881Z",
     "iopub.status.busy": "2023-12-09T23:12:33.946317Z",
     "iopub.status.idle": "2023-12-09T23:18:12.928890Z",
     "shell.execute_reply": "2023-12-09T23:18:12.927602Z",
     "shell.execute_reply.started": "2023-12-09T23:12:33.946852Z"
    }
   },
   "outputs": [
    {
     "name": "stderr",
     "output_type": "stream",
     "text": [
      "Some weights of the model checkpoint at bert-base-uncased were not used when initializing BertModel: ['cls.predictions.bias', 'cls.predictions.transform.dense.weight', 'cls.seq_relationship.bias', 'cls.predictions.transform.LayerNorm.bias', 'cls.predictions.transform.dense.bias', 'cls.seq_relationship.weight', 'cls.predictions.decoder.weight', 'cls.predictions.transform.LayerNorm.weight']\n",
      "- This IS expected if you are initializing BertModel from the checkpoint of a model trained on another task or with another architecture (e.g. initializing a BertForSequenceClassification model from a BertForPreTraining model).\n",
      "- This IS NOT expected if you are initializing BertModel from the checkpoint of a model that you expect to be exactly identical (initializing a BertForSequenceClassification model from a BertForSequenceClassification model).\n"
     ]
    },
    {
     "name": "stdout",
     "output_type": "stream",
     "text": [
      "Epoch 1/4\n",
      "----------\n",
      "Train loss 0.3881328716476 accuracy 0.8306625209280077\n",
      "Val   loss 0.2194051008671522 accuracy 0.9053763440860215\n",
      "Epoch 2/4\n",
      "----------\n",
      "Train loss 0.1480330709294231 accuracy 0.9507294905524994\n",
      "Val   loss 0.357181936269626 accuracy 0.896774193548387\n",
      "Epoch 3/4\n",
      "----------\n",
      "Train loss 0.06393818385860854 accuracy 0.9851710117196844\n",
      "Val   loss 0.4465288499758268 accuracy 0.9053763440860215\n",
      "Epoch 4/4\n",
      "----------\n",
      "Train loss 0.03648597925431753 accuracy 0.9923463286295146\n",
      "Val   loss 0.3810534897764834 accuracy 0.9204301075268817\n"
     ]
    }
   ],
   "source": [
    "model_4, val_acc_4 = create_model(['entropy', 'surprisal'], 2, df_train, df_val, df_test)"
   ]
  },
  {
   "cell_type": "code",
   "execution_count": 14,
   "id": "984c314a-21ad-4a63-8cdb-396c2762c556",
   "metadata": {
    "execution": {
     "iopub.execute_input": "2023-12-09T23:19:11.005774Z",
     "iopub.status.busy": "2023-12-09T23:19:11.004734Z",
     "iopub.status.idle": "2023-12-09T23:24:50.245266Z",
     "shell.execute_reply": "2023-12-09T23:24:50.244130Z",
     "shell.execute_reply.started": "2023-12-09T23:19:11.005742Z"
    }
   },
   "outputs": [
    {
     "name": "stderr",
     "output_type": "stream",
     "text": [
      "Some weights of the model checkpoint at bert-base-uncased were not used when initializing BertModel: ['cls.predictions.bias', 'cls.predictions.transform.dense.weight', 'cls.seq_relationship.bias', 'cls.predictions.transform.LayerNorm.bias', 'cls.predictions.transform.dense.bias', 'cls.seq_relationship.weight', 'cls.predictions.decoder.weight', 'cls.predictions.transform.LayerNorm.weight']\n",
      "- This IS expected if you are initializing BertModel from the checkpoint of a model trained on another task or with another architecture (e.g. initializing a BertForSequenceClassification model from a BertForPreTraining model).\n",
      "- This IS NOT expected if you are initializing BertModel from the checkpoint of a model that you expect to be exactly identical (initializing a BertForSequenceClassification model from a BertForSequenceClassification model).\n"
     ]
    },
    {
     "name": "stdout",
     "output_type": "stream",
     "text": [
      "Epoch 1/4\n",
      "----------\n",
      "Train loss 0.3881083659202088 accuracy 0.8282707486247309\n",
      "Val   loss 0.22640849935511748 accuracy 0.9118279569892473\n",
      "Epoch 2/4\n",
      "----------\n",
      "Train loss 0.14042933425201345 accuracy 0.9564697440803636\n",
      "Val   loss 0.40244456853639954 accuracy 0.9010752688172043\n",
      "Epoch 3/4\n",
      "----------\n",
      "Train loss 0.051068198307615505 accuracy 0.9870844295623057\n",
      "Val   loss 0.44585992565844207 accuracy 0.9075268817204301\n",
      "Epoch 4/4\n",
      "----------\n",
      "Train loss 0.023640954980865752 accuracy 0.995694809854102\n",
      "Val   loss 0.5526188871862057 accuracy 0.8989247311827957\n"
     ]
    }
   ],
   "source": [
    "model_5, val_acc_5 = create_model(['entropy', 'surprisal', 'minimum_sentiment_score'], 3, df_train, df_val, df_test)"
   ]
  },
  {
   "cell_type": "code",
   "execution_count": 20,
   "id": "fff54041-992d-4402-b7c1-b105d415fa4b",
   "metadata": {
    "execution": {
     "iopub.execute_input": "2023-12-09T23:37:08.250856Z",
     "iopub.status.busy": "2023-12-09T23:37:08.250494Z",
     "iopub.status.idle": "2023-12-09T23:37:16.883848Z",
     "shell.execute_reply": "2023-12-09T23:37:16.882935Z",
     "shell.execute_reply.started": "2023-12-09T23:37:08.250829Z"
    }
   },
   "outputs": [
    {
     "name": "stdout",
     "output_type": "stream",
     "text": [
      "Testing accuracy with best model:\n",
      "tensor(0.9002, device='cuda:0', dtype=torch.float64)\n"
     ]
    }
   ],
   "source": [
    "models = []\n",
    "models.append((model_1, val_acc_1, []))\n",
    "models.append((model_2, val_acc_2, ['surprisal']))\n",
    "models.append((model_3, val_acc_3, ['entropy']))\n",
    "models.append((model_4, val_acc_4, ['entropy', 'surprisal']))\n",
    "models.append((model_5, val_acc_5, ['entropy', 'surprisal', 'minimum_sentiment_score']))\n",
    "\n",
    "models.sort(key=lambda x: x[1], reverse=True)\n",
    "\n",
    "print(\"Testing accuracy with best model:\")\n",
    "model, val_acc, features = models[0]\n",
    "\n",
    "tokenizer = BertTokenizer.from_pretrained('bert-base-uncased')\n",
    "test_data_loader = create_data_loader(df_test, tokenizer, 128, 16, features)\n",
    "device = torch.device(\"cuda\" if torch.cuda.is_available() else \"cpu\")\n",
    "model = model.to(device)\n",
    "loss_fn = nn.CrossEntropyLoss().to(device)\n",
    "\n",
    "test_acc, test_loss = eval_model(\n",
    "    model,\n",
    "    test_data_loader,\n",
    "    loss_fn,\n",
    "    device,\n",
    "    len(df_test)\n",
    ")\n",
    "print(test_acc)"
   ]
  },
  {
   "cell_type": "code",
   "execution_count": null,
   "id": "8403b575-e85a-4e2f-980a-122adb248286",
   "metadata": {},
   "outputs": [],
   "source": [
    "\n",
    "    test_data_loader = create_data_loader(df_test, tokenizer, MAX_LEN, BATCH_SIZE, features)\n",
    "    test_acc, _ = eval_model(\n",
    "        model,\n",
    "        test_data_loader,\n",
    "        loss_fn,\n",
    "        device,\n",
    "        len(df_test)\n",
    "    )\n",
    "\n",
    "    print(f'Test accuracy {test_acc}')"
   ]
  }
 ],
 "metadata": {
  "kernelspec": {
   "display_name": "Python 3 (ipykernel)",
   "language": "python",
   "name": "python3"
  },
  "language_info": {
   "codemirror_mode": {
    "name": "ipython",
    "version": 3
   },
   "file_extension": ".py",
   "mimetype": "text/x-python",
   "name": "python",
   "nbconvert_exporter": "python",
   "pygments_lexer": "ipython3",
   "version": "3.9.16"
  }
 },
 "nbformat": 4,
 "nbformat_minor": 5
}
